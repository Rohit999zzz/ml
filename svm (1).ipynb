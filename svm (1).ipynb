{
  "nbformat": 4,
  "nbformat_minor": 0,
  "metadata": {
    "colab": {
      "provenance": []
    },
    "kernelspec": {
      "name": "python3",
      "display_name": "Python 3"
    },
    "language_info": {
      "name": "python"
    }
  },
  "cells": [
    {
      "cell_type": "code",
      "execution_count": 2,
      "metadata": {
        "colab": {
          "base_uri": "https://localhost:8080/"
        },
        "id": "ldJnnisC8X1a",
        "outputId": "0c5c8393-0ef3-4977-a073-27420a0cb080"
      },
      "outputs": [
        {
          "output_type": "stream",
          "name": "stdout",
          "text": [
            "\n",
            "Evaluating RBF kernel\n",
            "Best Parameters: {'C': 1, 'gamma': 0.1, 'kernel': 'rbf'}\n",
            "Accuracy: 0.7209302325581395\n",
            "Classification Report:\n",
            "               precision    recall  f1-score   support\n",
            "\n",
            "           1       0.69      0.79      0.73        14\n",
            "           2       0.69      0.73      0.71        15\n",
            "           3       0.00      0.00      0.00         3\n",
            "           5       1.00      0.67      0.80         3\n",
            "           6       0.50      0.50      0.50         2\n",
            "           7       0.86      1.00      0.92         6\n",
            "\n",
            "    accuracy                           0.72        43\n",
            "   macro avg       0.62      0.61      0.61        43\n",
            "weighted avg       0.68      0.72      0.69        43\n",
            "\n",
            "\n",
            "Evaluating POLY kernel\n"
          ]
        },
        {
          "output_type": "stream",
          "name": "stderr",
          "text": [
            "/usr/local/lib/python3.11/dist-packages/sklearn/metrics/_classification.py:1565: UndefinedMetricWarning: Precision is ill-defined and being set to 0.0 in labels with no predicted samples. Use `zero_division` parameter to control this behavior.\n",
            "  _warn_prf(average, modifier, f\"{metric.capitalize()} is\", len(result))\n",
            "/usr/local/lib/python3.11/dist-packages/sklearn/metrics/_classification.py:1565: UndefinedMetricWarning: Precision is ill-defined and being set to 0.0 in labels with no predicted samples. Use `zero_division` parameter to control this behavior.\n",
            "  _warn_prf(average, modifier, f\"{metric.capitalize()} is\", len(result))\n",
            "/usr/local/lib/python3.11/dist-packages/sklearn/metrics/_classification.py:1565: UndefinedMetricWarning: Precision is ill-defined and being set to 0.0 in labels with no predicted samples. Use `zero_division` parameter to control this behavior.\n",
            "  _warn_prf(average, modifier, f\"{metric.capitalize()} is\", len(result))\n"
          ]
        },
        {
          "output_type": "stream",
          "name": "stdout",
          "text": [
            "Best Parameters: {'C': 100, 'degree': 2, 'gamma': 'scale', 'kernel': 'poly'}\n",
            "Accuracy: 0.7209302325581395\n",
            "Classification Report:\n",
            "               precision    recall  f1-score   support\n",
            "\n",
            "           1       0.65      0.79      0.71        14\n",
            "           2       0.82      0.60      0.69        15\n",
            "           3       1.00      0.67      0.80         3\n",
            "           5       0.75      1.00      0.86         3\n",
            "           6       0.33      0.50      0.40         2\n",
            "           7       0.83      0.83      0.83         6\n",
            "\n",
            "    accuracy                           0.72        43\n",
            "   macro avg       0.73      0.73      0.72        43\n",
            "weighted avg       0.75      0.72      0.72        43\n",
            "\n",
            "\n",
            "Evaluating SIGMOID kernel\n",
            "Best Parameters: {'C': 100, 'gamma': 0.01, 'kernel': 'sigmoid'}\n",
            "Accuracy: 0.6744186046511628\n",
            "Classification Report:\n",
            "               precision    recall  f1-score   support\n",
            "\n",
            "           1       0.60      0.64      0.62        14\n",
            "           2       0.59      0.67      0.62        15\n",
            "           3       0.00      0.00      0.00         3\n",
            "           5       1.00      1.00      1.00         3\n",
            "           6       0.67      1.00      0.80         2\n",
            "           7       1.00      0.83      0.91         6\n",
            "\n",
            "    accuracy                           0.67        43\n",
            "   macro avg       0.64      0.69      0.66        43\n",
            "weighted avg       0.64      0.67      0.65        43\n",
            "\n"
          ]
        },
        {
          "output_type": "stream",
          "name": "stderr",
          "text": [
            "/usr/local/lib/python3.11/dist-packages/sklearn/metrics/_classification.py:1565: UndefinedMetricWarning: Precision is ill-defined and being set to 0.0 in labels with no predicted samples. Use `zero_division` parameter to control this behavior.\n",
            "  _warn_prf(average, modifier, f\"{metric.capitalize()} is\", len(result))\n",
            "/usr/local/lib/python3.11/dist-packages/sklearn/metrics/_classification.py:1565: UndefinedMetricWarning: Precision is ill-defined and being set to 0.0 in labels with no predicted samples. Use `zero_division` parameter to control this behavior.\n",
            "  _warn_prf(average, modifier, f\"{metric.capitalize()} is\", len(result))\n",
            "/usr/local/lib/python3.11/dist-packages/sklearn/metrics/_classification.py:1565: UndefinedMetricWarning: Precision is ill-defined and being set to 0.0 in labels with no predicted samples. Use `zero_division` parameter to control this behavior.\n",
            "  _warn_prf(average, modifier, f\"{metric.capitalize()} is\", len(result))\n"
          ]
        }
      ],
      "source": [
        "import pandas as pd\n",
        "import numpy as np\n",
        "from sklearn.model_selection import train_test_split, GridSearchCV\n",
        "from sklearn.svm import SVC\n",
        "from sklearn.preprocessing import StandardScaler\n",
        "from sklearn.metrics import classification_report, accuracy_score\n",
        "\n",
        "\n",
        "# Load dataset\n",
        "df = pd.read_csv(\"glass.csv\")\n",
        "\n",
        "# Drop ID column\n",
        "X = df.drop(columns=[\"Id\", \"Type\"])\n",
        "y = df[\"Type\"]\n",
        "\n",
        "# Train-test split\n",
        "X_train, X_test, y_train, y_test = train_test_split(X, y, test_size=0.2, random_state=42, stratify=y)\n",
        "\n",
        "\n",
        "scaler = StandardScaler()\n",
        "X_train = scaler.fit_transform(X_train)\n",
        "X_test = scaler.transform(X_test)\n",
        "\n",
        "# Kernels and their hyperparameters\n",
        "kernel_params = {\n",
        "    'rbf': {\n",
        "        'kernel': ['rbf'],\n",
        "        'C': [0.1, 1, 10, 100],\n",
        "        'gamma': [0.001, 0.01, 0.1, 1]\n",
        "    },\n",
        "    'poly': {\n",
        "        'kernel': ['poly'],\n",
        "        'C': [0.1, 1, 10, 100],\n",
        "        'gamma': ['scale', 'auto', 0.01, 0.1],\n",
        "        'degree': [2, 3, 4]\n",
        "    },\n",
        "    'sigmoid': {\n",
        "        'kernel': ['sigmoid'],\n",
        "        'C': [0.1, 1, 10, 100],\n",
        "        'gamma': [0.001, 0.01, 0.1, 1]\n",
        "    }\n",
        "}\n",
        "\n",
        "# Function to train and evaluate SVM with GridSearchCV\n",
        "def evaluate_kernel(kernel_name, param_grid):\n",
        "    print(f\"\\nEvaluating {kernel_name.upper()} kernel\")\n",
        "    grid = GridSearchCV(SVC(), param_grid, cv=5, n_jobs=-1)\n",
        "    grid.fit(X_train, y_train)\n",
        "\n",
        "    best_model = grid.best_estimator_\n",
        "    y_pred = best_model.predict(X_test)\n",
        "\n",
        "    print(\"Best Parameters:\", grid.best_params_)\n",
        "    print(\"Accuracy:\", accuracy_score(y_test, y_pred))\n",
        "    print(\"Classification Report:\\n\", classification_report(y_test, y_pred))\n",
        "\n",
        "# Run evaluation for each kernel\n",
        "for kernel, params in kernel_params.items():\n",
        "    evaluate_kernel(kernel, params)\n"
      ]
    }
  ]
}