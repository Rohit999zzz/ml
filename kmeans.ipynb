{
  "metadata": {
    "kernelspec": {
      "name": "python",
      "display_name": "Python (Pyodide)",
      "language": "python"
    },
    "language_info": {
      "codemirror_mode": {
        "name": "python",
        "version": 3
      },
      "file_extension": ".py",
      "mimetype": "text/x-python",
      "name": "python",
      "nbconvert_exporter": "python",
      "pygments_lexer": "ipython3",
      "version": "3.8"
    },
    "colab": {
      "provenance": []
    }
  },
  "nbformat_minor": 5,
  "nbformat": 4,
  "cells": [
    {
      "id": "1c32083e-21bc-4d28-91ed-b7c781c5c6c9",
      "cell_type": "code",
      "source": [
        "import numpy as np\n",
        "import matplotlib.pyplot as plt\n",
        "from sklearn.cluster import KMeans"
      ],
      "metadata": {
        "trusted": true,
        "id": "1c32083e-21bc-4d28-91ed-b7c781c5c6c9"
      },
      "outputs": [],
      "execution_count": null
    },
    {
      "id": "8b131137-2a1b-44c3-a559-d13c6a39caa0",
      "cell_type": "code",
      "source": [
        "# Dataset X (rows = data points)\n",
        "X = np.array([\n",
        "    [5.9, 3.2],\n",
        "    [4.6, 2.9],\n",
        "    [6.2, 2.8],\n",
        "    [4.7, 3.2],\n",
        "    [5.5, 4.2],\n",
        "    [5.0, 3.0],\n",
        "    [4.9, 3.1],\n",
        "    [6.7, 3.1],\n",
        "    [5.1, 3.8],\n",
        "    [6.0, 3.0]\n",
        "])\n",
        "\n",
        "# Initial cluster centers\n",
        "initial_centers = np.array([\n",
        "    [6.2, 3.2],  # Cluster 1 (red)\n",
        "    [6.6, 3.7],  # Cluster 2 (green)\n",
        "    [6.5, 3.0]   # Cluster 3 (blue)\n",
        "])"
      ],
      "metadata": {
        "trusted": true,
        "id": "8b131137-2a1b-44c3-a559-d13c6a39caa0"
      },
      "outputs": [],
      "execution_count": null
    },
    {
      "id": "743dd416-4c3e-4739-a5c1-3af2e78ac301",
      "cell_type": "code",
      "source": [
        "kmeans_1_iter = KMeans(n_clusters=3, init=initial_centers, n_init=1, max_iter=1, random_state=42)\n",
        "kmeans_1_iter.fit(X)\n",
        "centers_after_1 = kmeans_1_iter.cluster_centers_\n",
        "print(\"Cluster centers after 1 iteration:\\n\", np.round(centers_after_1, 3))"
      ],
      "metadata": {
        "id": "743dd416-4c3e-4739-a5c1-3af2e78ac301",
        "outputId": "b9315727-2f78-418e-cd8e-025bb7035ace",
        "colab": {
          "base_uri": "https://localhost:8080/"
        }
      },
      "outputs": [
        {
          "output_type": "stream",
          "name": "stdout",
          "text": [
            "Cluster centers after 1 iteration:\n",
            " [[5.171 3.171]\n",
            " [5.5   4.2  ]\n",
            " [6.45  2.95 ]]\n"
          ]
        }
      ],
      "execution_count": null
    },
    {
      "id": "5cdbd028-88bf-4887-a2a8-a99eb28eaf9f",
      "cell_type": "code",
      "source": [
        "kmeans_2_iter = KMeans(n_clusters=3, init=initial_centers, n_init=1, max_iter=2, random_state=42)\n",
        "kmeans_2_iter.fit(X)\n",
        "centers_after_2 = kmeans_2_iter.cluster_centers_\n",
        "print(\"Cluster centers after 2 iterations:\\n\", np.round(centers_after_2, 3))"
      ],
      "metadata": {
        "id": "5cdbd028-88bf-4887-a2a8-a99eb28eaf9f",
        "outputId": "5d5e5b9b-3437-4d2a-8a13-5ee4b2c472d1",
        "colab": {
          "base_uri": "https://localhost:8080/"
        }
      },
      "outputs": [
        {
          "output_type": "stream",
          "name": "stdout",
          "text": [
            "Cluster centers after 2 iterations:\n",
            " [[4.8   3.05 ]\n",
            " [5.3   4.   ]\n",
            " [6.2   3.025]]\n"
          ]
        }
      ],
      "execution_count": null
    },
    {
      "id": "d5ab19ee-7303-45df-8431-07b74c7be077",
      "cell_type": "code",
      "source": [
        "kmeans_full = KMeans(n_clusters=3, init=initial_centers, n_init=1, random_state=42)\n",
        "kmeans_full.fit(X)\n",
        "final_centers = kmeans_full.cluster_centers_\n",
        "iterations_needed = kmeans_full.n_iter_\n",
        "\n",
        "print(\"Final cluster centers after convergence:\\n\", np.round(final_centers, 3))\n",
        "print(\"Iterations to converge:\", iterations_needed)"
      ],
      "metadata": {
        "id": "d5ab19ee-7303-45df-8431-07b74c7be077",
        "outputId": "a38b715d-473e-44d9-ac5b-596c1b4113ef",
        "colab": {
          "base_uri": "https://localhost:8080/"
        }
      },
      "outputs": [
        {
          "output_type": "stream",
          "name": "stdout",
          "text": [
            "Final cluster centers after convergence:\n",
            " [[4.8   3.05 ]\n",
            " [5.3   4.   ]\n",
            " [6.2   3.025]]\n",
            "Iterations to converge: 3\n"
          ]
        }
      ],
      "execution_count": null
    },
    {
      "id": "1a69ada2-30f7-412d-9bf3-65408aa3bfad",
      "cell_type": "code",
      "source": [
        "plt.figure(figsize=(8, 6))\n",
        "plt.scatter(X[:, 0], X[:, 1], c=kmeans_full.labels_, cmap='viridis', marker='o')\n",
        "plt.scatter(initial_centers[:, 0], initial_centers[:, 1], color='black', marker='x', label='Initial Centers')\n",
        "plt.scatter(final_centers[:, 0], final_centers[:, 1], color='red', marker='P', label='Final Centers')\n",
        "plt.title(\"K-Means Clustering Result\")\n",
        "plt.xlabel(\"X1\")\n",
        "plt.ylabel(\"X2\")\n",
        "plt.legend()\n",
        "plt.grid(True)\n",
        "plt.tight_layout()\n",
        "plt.show()"
      ],
      "metadata": {
        "id": "1a69ada2-30f7-412d-9bf3-65408aa3bfad",
        "outputId": "beee1fec-1ab3-44c3-8632-0b827e4a4c5d",
        "colab": {
          "base_uri": "https://localhost:8080/",
          "height": 607
        }
      },
      "outputs": [
        {
          "output_type": "display_data",
          "data": {
            "text/plain": [
              "<Figure size 800x600 with 1 Axes>"
            ],
            "image/png": "[encoded data removed]"
          },
          "metadata": {}
        }
      ],
      "execution_count": null
    },
    {
      "id": "206eb31a-af2f-4f56-9d11-257aa8622c42",
      "cell_type": "code",
      "source": [],
      "metadata": {
        "id": "206eb31a-af2f-4f56-9d11-257aa8622c42"
      },
      "outputs": [],
      "execution_count": null
    }
  ]
}