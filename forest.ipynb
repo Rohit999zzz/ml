{
  "nbformat": 4,
  "nbformat_minor": 0,
  "metadata": {
    "colab": {
      "provenance": []
    },
    "kernelspec": {
      "name": "python3",
      "display_name": "Python 3"
    },
    "language_info": {
      "name": "python"
    }
  },
  "cells": [
    {
      "cell_type": "code",
      "execution_count": 1,
      "metadata": {
        "colab": {
          "base_uri": "https://localhost:8080/"
        },
        "id": "ldJnnisC8X1a",
        "outputId": "5c1d7f06-4387-45c3-e90a-197d414e29f2"
      },
      "outputs": [
        {
          "output_type": "stream",
          "name": "stdout",
          "text": [
            "Decision Tree Performance:\n",
            "Accuracy: 0.7013\n",
            "              precision    recall  f1-score   support\n",
            "\n",
            "           0       0.81      0.71      0.76       151\n",
            "           1       0.56      0.69      0.61        80\n",
            "\n",
            "    accuracy                           0.70       231\n",
            "   macro avg       0.68      0.70      0.69       231\n",
            "weighted avg       0.72      0.70      0.71       231\n",
            "\n",
            "\n",
            "Random Forest Performance:\n",
            "Accuracy: 0.7532\n",
            "              precision    recall  f1-score   support\n",
            "\n",
            "           0       0.82      0.80      0.81       151\n",
            "           1       0.64      0.66      0.65        80\n",
            "\n",
            "    accuracy                           0.75       231\n",
            "   macro avg       0.73      0.73      0.73       231\n",
            "weighted avg       0.76      0.75      0.75       231\n",
            "\n"
          ]
        }
      ],
      "source": [
        "import pandas as pd\n",
        "from sklearn.model_selection import train_test_split\n",
        "from sklearn.ensemble import RandomForestClassifier\n",
        "from sklearn.tree import DecisionTreeClassifier\n",
        "from sklearn.metrics import accuracy_score, classification_report\n",
        "\n",
        "# Load the dataset\n",
        "df = pd.read_csv('pima.csv')\n",
        "\n",
        "# Split into features and target\n",
        "X = df.drop('Outcome', axis=1)\n",
        "y = df['Outcome']\n",
        "\n",
        "# Split into train and test sets\n",
        "X_train, X_test, y_train, y_test = train_test_split(X, y, test_size=0.3, random_state=42)\n",
        "\n",
        "# Initialize models\n",
        "dt = DecisionTreeClassifier(random_state=42)\n",
        "rf = RandomForestClassifier(random_state=42)\n",
        "\n",
        "# Train models\n",
        "dt.fit(X_train, y_train)\n",
        "rf.fit(X_train, y_train)\n",
        "\n",
        "# Make predictions\n",
        "dt_pred = dt.predict(X_test)\n",
        "rf_pred = rf.predict(X_test)\n",
        "\n",
        "# Evaluate performance\n",
        "print(\"Decision Tree Performance:\")\n",
        "print(f\"Accuracy: {accuracy_score(y_test, dt_pred):.4f}\")\n",
        "print(classification_report(y_test, dt_pred))\n",
        "\n",
        "print(\"\\nRandom Forest Performance:\")\n",
        "print(f\"Accuracy: {accuracy_score(y_test, rf_pred):.4f}\")\n",
        "print(classification_report(y_test, rf_pred))"
      ]
    }
  ]
}