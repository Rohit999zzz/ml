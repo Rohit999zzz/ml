{
  "cells": [
    {
      "cell_type": "markdown",
      "id": "3d9c175b-5f0c-4883-baa2-7ee261401e75",
      "metadata": {
        "id": "3d9c175b-5f0c-4883-baa2-7ee261401e75"
      },
      "source": [
        "## Load Data & Check Missing Values"
      ]
    },
    {
      "cell_type": "code",
      "execution_count": 1,
      "id": "4bd0efd5-dbf2-4721-9d45-2672e4e11409",
      "metadata": {
        "colab": {
          "base_uri": "https://localhost:8080/"
        },
        "id": "4bd0efd5-dbf2-4721-9d45-2672e4e11409",
        "outputId": "55d484b2-53a4-4070-ab13-1c911841dd23"
      },
      "outputs": [
        {
          "output_type": "stream",
          "name": "stdout",
          "text": [
            "First 5 rows:\n",
            "       V1     V2      V3     V4     V5     V6     V7  V8\n",
            "0  15.26  14.84  0.8710  5.763  3.312  2.221  5.220   1\n",
            "1  14.88  14.57  0.8811  5.554  3.333  1.018  4.956   1\n",
            "2  14.29  14.09  0.9050  5.291  3.337  2.699  4.825   1\n",
            "3  13.84  13.94  0.8955  5.324  3.379  2.259  4.805   1\n",
            "4  16.14  14.99  0.9034  5.658  3.562  1.355  5.175   1\n",
            "\n",
            "Missing values:\n",
            " V1    0\n",
            "V2    0\n",
            "V3    0\n",
            "V4    0\n",
            "V5    0\n",
            "V6    0\n",
            "V7    0\n",
            "V8    0\n",
            "dtype: int64\n"
          ]
        }
      ],
      "source": [
        "import pandas as pd\n",
        "\n",
        "# Load dataset\n",
        "df = pd.read_csv(\"seeds.csv\")\n",
        "\n",
        "# Display basic info and missing values\n",
        "print(\"First 5 rows:\\n\", df.head())\n",
        "print(\"\\nMissing values:\\n\", df.isnull().sum())"
      ]
    },
    {
      "cell_type": "markdown",
      "id": "e937df85-f42c-4b00-91ae-16211b3cbb37",
      "metadata": {
        "id": "e937df85-f42c-4b00-91ae-16211b3cbb37"
      },
      "source": [
        "## Noise Reduction (Outlier Removal using Z-score)"
      ]
    },
    {
      "cell_type": "code",
      "execution_count": 2,
      "id": "cb9b75d9-44fe-47ad-9395-d50e409243ab",
      "metadata": {
        "id": "cb9b75d9-44fe-47ad-9395-d50e409243ab"
      },
      "outputs": [],
      "source": [
        "import numpy as np\n",
        "from scipy.stats import zscore\n",
        "\n",
        "# Separate features and label\n",
        "X = df.iloc[:, :-1].values\n",
        "y = df.iloc[:, -1].values - 1  # Convert class labels from 1,2,3 to 0,1,2\n",
        "\n",
        "# Remove noise using Z-score method\n",
        "z_scores = np.abs(zscore(X))\n",
        "filtered_entries = (z_scores < 3).all(axis=1)\n",
        "X = X[filtered_entries]\n",
        "y = y[filtered_entries]"
      ]
    },
    {
      "cell_type": "markdown",
      "id": "a09424c0-3079-4092-91c6-36bd98d1a0c3",
      "metadata": {
        "id": "a09424c0-3079-4092-91c6-36bd98d1a0c3"
      },
      "source": [
        "## Normalization"
      ]
    },
    {
      "cell_type": "code",
      "execution_count": 3,
      "id": "a2cd1737-6f63-45d7-b643-14c29211fda3",
      "metadata": {
        "id": "a2cd1737-6f63-45d7-b643-14c29211fda3"
      },
      "outputs": [],
      "source": [
        "from sklearn.preprocessing import StandardScaler\n",
        "\n",
        "scaler = StandardScaler()\n",
        "X = scaler.fit_transform(X)\n",
        "from sklearn.model_selection import train_test_split\n",
        "from sklearn.preprocessing import OneHotEncoder\n",
        "\n",
        "# One-hot encode the target\n",
        "encoder = OneHotEncoder(sparse_output=False)\n",
        "y_onehot = encoder.fit_transform(y.reshape(-1, 1))\n",
        "\n",
        "# Train-test split\n",
        "X_train, X_test, y_train, y_test = train_test_split(X, y_onehot, test_size=0.2, random_state=42)\n",
        "\n",
        "# Add bias term\n",
        "X_train_bias = np.hstack([np.ones((X_train.shape[0], 1)), X_train])\n",
        "X_test_bias = np.hstack([np.ones((X_test.shape[0], 1)), X_test])\n"
      ]
    },
    {
      "cell_type": "markdown",
      "id": "acc8baac-33b7-4eee-9e30-a5a1c4f9463e",
      "metadata": {
        "id": "acc8baac-33b7-4eee-9e30-a5a1c4f9463e"
      },
      "source": [
        "## Gradient Descent Setup"
      ]
    },
    {
      "cell_type": "code",
      "execution_count": 4,
      "id": "9b8ffe62-63ab-4dd8-9725-cfc7c9a30777",
      "metadata": {
        "id": "9b8ffe62-63ab-4dd8-9725-cfc7c9a30777"
      },
      "outputs": [],
      "source": [
        "from sklearn.model_selection import train_test_split\n",
        "from sklearn.preprocessing import OneHotEncoder\n",
        "\n",
        "# One-hot encode the target\n",
        "encoder = OneHotEncoder(sparse_output=False)\n",
        "y_onehot = encoder.fit_transform(y.reshape(-1, 1))\n",
        "\n",
        "# Train-test split\n",
        "X_train, X_test, y_train, y_test = train_test_split(X, y_onehot, test_size=0.2, random_state=42)\n",
        "\n",
        "# Add bias term\n",
        "X_train_bias = np.hstack([np.ones((X_train.shape[0], 1)), X_train])\n",
        "X_test_bias = np.hstack([np.ones((X_test.shape[0], 1)), X_test])"
      ]
    },
    {
      "cell_type": "markdown",
      "id": "77fe3816-534a-4fdd-a258-01ab08cf8ca4",
      "metadata": {
        "id": "77fe3816-534a-4fdd-a258-01ab08cf8ca4"
      },
      "source": [
        "## Softmax Function"
      ]
    },
    {
      "cell_type": "code",
      "execution_count": 5,
      "id": "18ef9a18-1107-4f85-a190-5c38b4901297",
      "metadata": {
        "id": "18ef9a18-1107-4f85-a190-5c38b4901297"
      },
      "outputs": [],
      "source": [
        "def softmax(z):\n",
        "    exp_z = np.exp(z - np.max(z, axis=1, keepdims=True))\n",
        "    return exp_z / np.sum(exp_z, axis=1, keepdims=True)"
      ]
    },
    {
      "cell_type": "markdown",
      "id": "02d3e2bf-2239-4b56-b9ec-2094baa7816f",
      "metadata": {
        "id": "02d3e2bf-2239-4b56-b9ec-2094baa7816f"
      },
      "source": [
        "## Cross-Entropy Loss and Gradient Descent (100 Epochs)"
      ]
    },
    {
      "cell_type": "code",
      "execution_count": 6,
      "id": "8ec0a9bc-ced8-4678-a23e-b2abfe514c16",
      "metadata": {
        "colab": {
          "base_uri": "https://localhost:8080/"
        },
        "id": "8ec0a9bc-ced8-4678-a23e-b2abfe514c16",
        "outputId": "4da438f4-1f59-4f79-b0d7-08a37073ade8"
      },
      "outputs": [
        {
          "output_type": "stream",
          "name": "stdout",
          "text": [
            "Epoch 1, Loss: 1.0986\n",
            "Epoch 2, Loss: 0.9541\n",
            "Epoch 3, Loss: 0.8505\n",
            "Epoch 4, Loss: 0.7745\n",
            "Epoch 5, Loss: 0.7168\n",
            "Epoch 6, Loss: 0.6716\n",
            "Epoch 7, Loss: 0.6349\n",
            "Epoch 8, Loss: 0.6045\n",
            "Epoch 9, Loss: 0.5787\n",
            "Epoch 10, Loss: 0.5564\n",
            "Epoch 11, Loss: 0.5369\n",
            "Epoch 12, Loss: 0.5196\n",
            "Epoch 13, Loss: 0.5041\n",
            "Epoch 14, Loss: 0.4901\n",
            "Epoch 15, Loss: 0.4774\n",
            "Epoch 16, Loss: 0.4658\n",
            "Epoch 17, Loss: 0.4551\n",
            "Epoch 18, Loss: 0.4452\n",
            "Epoch 19, Loss: 0.4361\n",
            "Epoch 20, Loss: 0.4275\n",
            "Epoch 21, Loss: 0.4196\n",
            "Epoch 22, Loss: 0.4121\n",
            "Epoch 23, Loss: 0.4051\n",
            "Epoch 24, Loss: 0.3985\n",
            "Epoch 25, Loss: 0.3923\n",
            "Epoch 26, Loss: 0.3865\n",
            "Epoch 27, Loss: 0.3809\n",
            "Epoch 28, Loss: 0.3756\n",
            "Epoch 29, Loss: 0.3706\n",
            "Epoch 30, Loss: 0.3658\n",
            "Epoch 31, Loss: 0.3613\n",
            "Epoch 32, Loss: 0.3570\n",
            "Epoch 33, Loss: 0.3528\n",
            "Epoch 34, Loss: 0.3489\n",
            "Epoch 35, Loss: 0.3451\n",
            "Epoch 36, Loss: 0.3414\n",
            "Epoch 37, Loss: 0.3379\n",
            "Epoch 38, Loss: 0.3346\n",
            "Epoch 39, Loss: 0.3314\n",
            "Epoch 40, Loss: 0.3282\n",
            "Epoch 41, Loss: 0.3253\n",
            "Epoch 42, Loss: 0.3224\n",
            "Epoch 43, Loss: 0.3196\n",
            "Epoch 44, Loss: 0.3169\n",
            "Epoch 45, Loss: 0.3143\n",
            "Epoch 46, Loss: 0.3118\n",
            "Epoch 47, Loss: 0.3093\n",
            "Epoch 48, Loss: 0.3070\n",
            "Epoch 49, Loss: 0.3047\n",
            "Epoch 50, Loss: 0.3025\n",
            "Epoch 51, Loss: 0.3003\n",
            "Epoch 52, Loss: 0.2983\n",
            "Epoch 53, Loss: 0.2962\n",
            "Epoch 54, Loss: 0.2943\n",
            "Epoch 55, Loss: 0.2923\n",
            "Epoch 56, Loss: 0.2905\n",
            "Epoch 57, Loss: 0.2887\n",
            "Epoch 58, Loss: 0.2869\n",
            "Epoch 59, Loss: 0.2852\n",
            "Epoch 60, Loss: 0.2835\n",
            "Epoch 61, Loss: 0.2819\n",
            "Epoch 62, Loss: 0.2803\n",
            "Epoch 63, Loss: 0.2787\n",
            "Epoch 64, Loss: 0.2772\n",
            "Epoch 65, Loss: 0.2757\n",
            "Epoch 66, Loss: 0.2742\n",
            "Epoch 67, Loss: 0.2728\n",
            "Epoch 68, Loss: 0.2714\n",
            "Epoch 69, Loss: 0.2701\n",
            "Epoch 70, Loss: 0.2687\n",
            "Epoch 71, Loss: 0.2674\n",
            "Epoch 72, Loss: 0.2661\n",
            "Epoch 73, Loss: 0.2649\n",
            "Epoch 74, Loss: 0.2637\n",
            "Epoch 75, Loss: 0.2625\n",
            "Epoch 76, Loss: 0.2613\n",
            "Epoch 77, Loss: 0.2601\n",
            "Epoch 78, Loss: 0.2590\n",
            "Epoch 79, Loss: 0.2579\n",
            "Epoch 80, Loss: 0.2568\n",
            "Epoch 81, Loss: 0.2557\n",
            "Epoch 82, Loss: 0.2547\n",
            "Epoch 83, Loss: 0.2536\n",
            "Epoch 84, Loss: 0.2526\n",
            "Epoch 85, Loss: 0.2516\n",
            "Epoch 86, Loss: 0.2506\n",
            "Epoch 87, Loss: 0.2497\n",
            "Epoch 88, Loss: 0.2487\n",
            "Epoch 89, Loss: 0.2478\n",
            "Epoch 90, Loss: 0.2469\n",
            "Epoch 91, Loss: 0.2460\n",
            "Epoch 92, Loss: 0.2451\n",
            "Epoch 93, Loss: 0.2442\n",
            "Epoch 94, Loss: 0.2433\n",
            "Epoch 95, Loss: 0.2425\n",
            "Epoch 96, Loss: 0.2416\n",
            "Epoch 97, Loss: 0.2408\n",
            "Epoch 98, Loss: 0.2400\n",
            "Epoch 99, Loss: 0.2392\n",
            "Epoch 100, Loss: 0.2384\n"
          ]
        }
      ],
      "source": [
        "def compute_loss(y_true, y_pred):\n",
        "    return -np.mean(np.sum(y_true * np.log(y_pred + 1e-15), axis=1))\n",
        "\n",
        "def gradient_descent(X, y, lr=0.1, epochs=100):\n",
        "    m, n = X.shape\n",
        "    k = y.shape[1]\n",
        "    theta = np.zeros((n, k))\n",
        "    loss_history = []\n",
        "\n",
        "    for epoch in range(epochs):\n",
        "        logits = X @ theta\n",
        "        y_pred = softmax(logits)\n",
        "        loss = compute_loss(y, y_pred)\n",
        "        gradient = X.T @ (y_pred - y) / m\n",
        "        theta -= lr * gradient\n",
        "        loss_history.append(loss)\n",
        "        print(f\"Epoch {epoch + 1}, Loss: {loss:.4f}\")\n",
        "\n",
        "    return theta, loss_history\n",
        "\n",
        "# Train the model\n",
        "theta, losses = gradient_descent(X_train_bias, y_train, lr=0.1, epochs=100)"
      ]
    },
    {
      "cell_type": "markdown",
      "id": "7548264a-9874-4d08-85ab-8ba4278acade",
      "metadata": {
        "id": "7548264a-9874-4d08-85ab-8ba4278acade"
      },
      "source": [
        "## Accuracy Calculation"
      ]
    },
    {
      "cell_type": "code",
      "execution_count": 7,
      "id": "3d40d2d2-9c84-413d-8101-cf80ea5cdb34",
      "metadata": {
        "colab": {
          "base_uri": "https://localhost:8080/"
        },
        "id": "3d40d2d2-9c84-413d-8101-cf80ea5cdb34",
        "outputId": "a4cfb627-4c5a-458f-8f6c-2e048c947ef6"
      },
      "outputs": [
        {
          "output_type": "stream",
          "name": "stdout",
          "text": [
            "Accuracy: 0.9285714285714286\n",
            "Confusion Matrix:\n",
            " [[10  0  1]\n",
            " [ 2 13  0]\n",
            " [ 0  0 16]]\n"
          ]
        }
      ],
      "source": [
        "from sklearn.metrics import accuracy_score, confusion_matrix\n",
        "\n",
        "def predict(X, theta):\n",
        "    logits = X @ theta\n",
        "    return np.argmax(softmax(logits), axis=1)\n",
        "\n",
        "# Predict\n",
        "y_pred = predict(X_test_bias, theta)\n",
        "y_true = np.argmax(y_test, axis=1)\n",
        "\n",
        "# Accuracy\n",
        "accuracy = accuracy_score(y_true, y_pred)\n",
        "print(\"Accuracy:\", accuracy)\n",
        "print(\"Confusion Matrix:\\n\", confusion_matrix(y_true, y_pred))"
      ]
    },
    {
      "cell_type": "markdown",
      "id": "d67c78ce-df2f-4a02-a64d-6bb5463f99f9",
      "metadata": {
        "id": "d67c78ce-df2f-4a02-a64d-6bb5463f99f9"
      },
      "source": [
        "## Plot Loss Across Epochs"
      ]
    },
    {
      "cell_type": "code",
      "execution_count": 8,
      "id": "4a69f058-31e0-4c58-8888-884bc4d5608c",
      "metadata": {
        "colab": {
          "base_uri": "https://localhost:8080/",
          "height": 472
        },
        "id": "4a69f058-31e0-4c58-8888-884bc4d5608c",
        "outputId": "b2ecf124-3fc2-48d9-d387-1f7566d66d1f"
      },
      "outputs": [
        {
          "output_type": "display_data",
          "data": {
            "text/plain": [
              "<Figure size 640x480 with 1 Axes>"
            ],
            "image/png": "[encoded data removed]"
          },
          "metadata": {}
        }
      ],
      "source": [
        "import matplotlib.pyplot as plt\n",
        "\n",
        "plt.plot(range(1, len(losses) + 1), losses, marker='o')\n",
        "plt.xlabel(\"Epoch\")\n",
        "plt.ylabel(\"Loss\")\n",
        "plt.title(\"Cross-Entropy Loss Across Epochs\")\n",
        "plt.grid(True)\n",
        "plt.show()"
      ]
    },
    {
      "cell_type": "code",
      "execution_count": 8,
      "id": "c60886b1-a089-443a-9f73-52c5b6afe397",
      "metadata": {
        "id": "c60886b1-a089-443a-9f73-52c5b6afe397"
      },
      "outputs": [],
      "source": []
    }
  ],
  "metadata": {
    "kernelspec": {
      "display_name": "Python 3 (ipykernel)",
      "language": "python",
      "name": "python3"
    },
    "language_info": {
      "codemirror_mode": {
        "name": "ipython",
        "version": 3
      },
      "file_extension": ".py",
      "mimetype": "text/x-python",
      "name": "python",
      "nbconvert_exporter": "python",
      "pygments_lexer": "ipython3",
      "version": "3.11.1"
    },
    "colab": {
      "provenance": []
    }
  },
  "nbformat": 4,
  "nbformat_minor": 5
}
